{
 "cells": [
  {
   "cell_type": "code",
   "execution_count": 1,
   "metadata": {
    "pycharm": {
     "is_executing": false
    }
   },
   "outputs": [],
   "source": [
    "import pandas as pd\n",
    "import matplotlib.colors as mplc\n",
    "import matplotlib.patches as patches\n",
    "import matplotlib.pyplot as plt\n",
    "from scipy import stats\n",
    "import numpy as np\n",
    "from pandas_profiling import ProfileReport\n",
    "import seaborn as sns"
   ]
  },
  {
   "cell_type": "code",
   "execution_count": 2,
   "metadata": {
    "pycharm": {
     "is_executing": false
    }
   },
   "outputs": [],
   "source": [
    "%matplotlib inline\n",
    "# activate plot theme\n",
    "import qeds\n",
    "qeds.themes.mpl_style();"
   ]
  },
  {
   "cell_type": "markdown",
   "metadata": {
    "pycharm": {
     "name": "#%% md\n"
    }
   },
   "source": [
    "TODO: talk about kiva as an organization, this dataset,\n",
    "structure of notebook\n"
   ]
  },
  {
   "cell_type": "code",
   "execution_count": 3,
   "metadata": {
    "pycharm": {
     "is_executing": false
    }
   },
   "outputs": [],
   "source": [
    "# Source: https://www.kiva.org/build/data-snapshots\n",
    "loans_raw = pd.read_csv(\"big_kiva_ds/loans.csv\", parse_dates=[\"POSTED_TIME\",\"PLANNED_EXPIRATION_TIME\",\"DISBURSE_TIME\",\"RAISED_TIME\",])"
   ]
  },
  {
   "cell_type": "code",
   "execution_count": 4,
   "metadata": {
    "pycharm": {
     "is_executing": false
    }
   },
   "outputs": [
    {
     "data": {
      "text/html": [
       "<div>\n",
       "<style scoped>\n",
       "    .dataframe tbody tr th:only-of-type {\n",
       "        vertical-align: middle;\n",
       "    }\n",
       "\n",
       "    .dataframe tbody tr th {\n",
       "        vertical-align: top;\n",
       "    }\n",
       "\n",
       "    .dataframe thead th {\n",
       "        text-align: right;\n",
       "    }\n",
       "</style>\n",
       "<table border=\"1\" class=\"dataframe\">\n",
       "  <thead>\n",
       "    <tr style=\"text-align: right;\">\n",
       "      <th></th>\n",
       "      <th>LOAN_ID</th>\n",
       "      <th>LOAN_NAME</th>\n",
       "      <th>ORIGINAL_LANGUAGE</th>\n",
       "      <th>DESCRIPTION</th>\n",
       "      <th>DESCRIPTION_TRANSLATED</th>\n",
       "      <th>FUNDED_AMOUNT</th>\n",
       "      <th>LOAN_AMOUNT</th>\n",
       "      <th>STATUS</th>\n",
       "      <th>IMAGE_ID</th>\n",
       "      <th>VIDEO_ID</th>\n",
       "      <th>...</th>\n",
       "      <th>LENDER_TERM</th>\n",
       "      <th>NUM_LENDERS_TOTAL</th>\n",
       "      <th>NUM_JOURNAL_ENTRIES</th>\n",
       "      <th>NUM_BULK_ENTRIES</th>\n",
       "      <th>TAGS</th>\n",
       "      <th>BORROWER_NAMES</th>\n",
       "      <th>BORROWER_GENDERS</th>\n",
       "      <th>BORROWER_PICTURED</th>\n",
       "      <th>REPAYMENT_INTERVAL</th>\n",
       "      <th>DISTRIBUTION_MODEL</th>\n",
       "    </tr>\n",
       "  </thead>\n",
       "  <tbody>\n",
       "    <tr>\n",
       "      <th>77657</th>\n",
       "      <td>807094</td>\n",
       "      <td>GUSTAVO</td>\n",
       "      <td>Spanish</td>\n",
       "      <td>Gustavo es soltero y vive con sus padres en La...</td>\n",
       "      <td>Gustavo is single and lives with his parents i...</td>\n",
       "      <td>500.0</td>\n",
       "      <td>500.0</td>\n",
       "      <td>funded</td>\n",
       "      <td>1745738.0</td>\n",
       "      <td>3002.0</td>\n",
       "      <td>...</td>\n",
       "      <td>20.0</td>\n",
       "      <td>17</td>\n",
       "      <td>2</td>\n",
       "      <td>1</td>\n",
       "      <td>user_favorite, user_favorite, user_favorite</td>\n",
       "      <td>GUSTAVO</td>\n",
       "      <td>male</td>\n",
       "      <td>true</td>\n",
       "      <td>monthly</td>\n",
       "      <td>field_partner</td>\n",
       "    </tr>\n",
       "  </tbody>\n",
       "</table>\n",
       "<p>1 rows × 34 columns</p>\n",
       "</div>"
      ],
      "text/plain": [
       "       LOAN_ID LOAN_NAME ORIGINAL_LANGUAGE  \\\n",
       "77657   807094   GUSTAVO           Spanish   \n",
       "\n",
       "                                             DESCRIPTION  \\\n",
       "77657  Gustavo es soltero y vive con sus padres en La...   \n",
       "\n",
       "                                  DESCRIPTION_TRANSLATED  FUNDED_AMOUNT  \\\n",
       "77657  Gustavo is single and lives with his parents i...          500.0   \n",
       "\n",
       "       LOAN_AMOUNT  STATUS   IMAGE_ID  VIDEO_ID  ... LENDER_TERM  \\\n",
       "77657        500.0  funded  1745738.0    3002.0  ...        20.0   \n",
       "\n",
       "      NUM_LENDERS_TOTAL NUM_JOURNAL_ENTRIES NUM_BULK_ENTRIES  \\\n",
       "77657                17                   2                1   \n",
       "\n",
       "                                              TAGS BORROWER_NAMES  \\\n",
       "77657  user_favorite, user_favorite, user_favorite        GUSTAVO   \n",
       "\n",
       "      BORROWER_GENDERS  BORROWER_PICTURED REPAYMENT_INTERVAL  \\\n",
       "77657             male               true            monthly   \n",
       "\n",
       "       DISTRIBUTION_MODEL  \n",
       "77657       field_partner  \n",
       "\n",
       "[1 rows x 34 columns]"
      ]
     },
     "execution_count": 4,
     "metadata": {},
     "output_type": "execute_result"
    }
   ],
   "source": [
    "loans_raw.dropna().head(1)"
   ]
  },
  {
   "cell_type": "code",
   "execution_count": 5,
   "metadata": {
    "pycharm": {
     "is_executing": false
    }
   },
   "outputs": [
    {
     "name": "stdout",
     "output_type": "stream",
     "text": [
      "The dataset contains 1682790 loans in the date range 2006-04-16 07:10:50+00:00 to 2019-02-25 04:12:27+00:00.\n"
     ]
    }
   ],
   "source": [
    "min_date = loans_raw[\"POSTED_TIME\"].min()\n",
    "max_date = loans_raw[\"POSTED_TIME\"].max()\n",
    "print(f\"The dataset contains {len(loans_raw)} loans in the date range {min_date} to {max_date}.\")"
   ]
  },
  {
   "cell_type": "markdown",
   "metadata": {},
   "source": [
    "We will first explore the quality of the data and see if there will be any issues with missing data."
   ]
  },
  {
   "cell_type": "code",
   "execution_count": 6,
   "metadata": {
    "pycharm": {
     "is_executing": false
    }
   },
   "outputs": [
    {
     "name": "stdout",
     "output_type": "stream",
     "text": [
      "LOAN_ID                                  0\n",
      "LOAN_NAME                            48555\n",
      "ORIGINAL_LANGUAGE                    44209\n",
      "DESCRIPTION                          44244\n",
      "DESCRIPTION_TRANSLATED              453635\n",
      "FUNDED_AMOUNT                            0\n",
      "LOAN_AMOUNT                              0\n",
      "STATUS                                   0\n",
      "IMAGE_ID                             44209\n",
      "VIDEO_ID                           1681943\n",
      "ACTIVITY_NAME                            0\n",
      "SECTOR_NAME                              0\n",
      "LOAN_USE                             44232\n",
      "COUNTRY_CODE                            29\n",
      "COUNTRY_NAME                             0\n",
      "TOWN_NAME                           163515\n",
      "CURRENCY_POLICY                          0\n",
      "CURRENCY_EXCHANGE_COVERAGE_RATE     337326\n",
      "CURRENCY                                 0\n",
      "PARTNER_ID                           18325\n",
      "POSTED_TIME                              0\n",
      "PLANNED_EXPIRATION_TIME             371834\n",
      "DISBURSE_TIME                         3189\n",
      "RAISED_TIME                          85150\n",
      "LENDER_TERM                             24\n",
      "NUM_LENDERS_TOTAL                        0\n",
      "NUM_JOURNAL_ENTRIES                      0\n",
      "NUM_BULK_ENTRIES                         0\n",
      "TAGS                                831171\n",
      "BORROWER_NAMES                       48555\n",
      "BORROWER_GENDERS                     44209\n",
      "BORROWER_PICTURED                    44209\n",
      "REPAYMENT_INTERVAL                       0\n",
      "DISTRIBUTION_MODEL                       0\n",
      "dtype: int64\n"
     ]
    }
   ],
   "source": [
    "print(loans_raw.isnull().sum())"
   ]
  },
  {
   "cell_type": "markdown",
   "metadata": {},
   "source": [
    "As you can see, although there are some missing cells, the core data relating to the loans themselves are complete. Although cells relating to currencies are listed, investigating a small sample revealed that all loan amounts are in USD."
   ]
  },
  {
   "cell_type": "code",
   "execution_count": null,
   "metadata": {},
   "outputs": [],
   "source": []
  },
  {
   "cell_type": "code",
   "execution_count": 7,
   "metadata": {
    "pycharm": {
     "is_executing": false
    }
   },
   "outputs": [],
   "source": [
    "# TODO: investigate further into columns such as funded_time, borrower_genders to decide whether some rows should be dropped."
   ]
  },
  {
   "cell_type": "code",
   "execution_count": 19,
   "metadata": {
    "pycharm": {
     "is_executing": false
    }
   },
   "outputs": [
    {
     "name": "stdout",
     "output_type": "stream",
     "text": [
      "['funded', 'expired', 'fundRaising', 'refunded']\n"
     ]
    }
   ],
   "source": [
    "statuses = loans_raw[\"STATUS\"]\n",
    "status_types = list(statuses.unique())\n",
    "print(status_types)\n"
   ]
  },
  {
   "cell_type": "code",
   "execution_count": 9,
   "metadata": {
    "pycharm": {
     "is_executing": false
    }
   },
   "outputs": [],
   "source": [
    "# import requests\n",
    "# base_url = 'https://api.kivaws.org/graphql?query='\n",
    "\n",
    "# graphql_query = \"{lend {loan (id: 1568001){id name}}}\"\n",
    "\n",
    "# r = requests.post(base_url+ graphql_query )\n",
    "# r.json()"
   ]
  },
  {
   "cell_type": "markdown",
   "metadata": {},
   "source": [
    "Exploratory data analysis"
   ]
  },
  {
   "cell_type": "code",
   "execution_count": null,
   "metadata": {
    "pycharm": {
     "is_executing": true
    }
   },
   "outputs": [],
   "source": []
  },
  {
   "cell_type": "code",
   "execution_count": 10,
   "metadata": {
    "pycharm": {
     "is_executing": true
    }
   },
   "outputs": [],
   "source": [
    "# amounts = loans_raw[\"loan_amount\"]\n",
    "\n",
    "# # Remove the very large loan amounts for plotting\n",
    "# z = np.abs(stats.zscore(amounts))\n",
    "# print(np.where(z > 6))\n",
    "\n",
    "# amounts = amounts[(z < 10)]\n",
    "# normalized_amounts = (amounts - amounts.mean()) / amounts.std()\n",
    "\n",
    "# fig, ax = plt.subplots()\n",
    "# normalized_amounts.plot(\n",
    "#     kind=\"hist\", y=\"Loan amounts\", color=(244/255, 77/255, 24/255),\n",
    "#     bins=23, legend=False, density=True, ax=ax\n",
    "# )"
   ]
  },
  {
   "cell_type": "code",
   "execution_count": 11,
   "metadata": {},
   "outputs": [],
   "source": [
    "# TODO: PLOT LOAN AMOUNTS, SECTORS, COUNTRIES, TERMS, POSTED_TO_DISTRIBUTED, REPAYMENT INTERVALS, GENDERS\n"
   ]
  },
  {
   "cell_type": "code",
   "execution_count": 12,
   "metadata": {},
   "outputs": [],
   "source": [
    "# TODO: plot frequency of loans over time in sample"
   ]
  },
  {
   "cell_type": "code",
   "execution_count": 13,
   "metadata": {},
   "outputs": [],
   "source": [
    "# TODO: consolidate uses of loans by string matching and plot"
   ]
  },
  {
   "cell_type": "code",
   "execution_count": 14,
   "metadata": {
    "jupyter": {
     "outputs_hidden": false
    },
    "pycharm": {
     "name": "#%%\n"
    }
   },
   "outputs": [],
   "source": [
    "# TODO: estimate pdv of loans to infer how much people are \"giving away\" in these loans"
   ]
  },
  {
   "cell_type": "code",
   "execution_count": 15,
   "metadata": {
    "jupyter": {
     "outputs_hidden": false
    },
    "pycharm": {
     "name": "#%%\n"
    }
   },
   "outputs": [],
   "source": [
    "# TODO: create heatmap of loan countries/regions in sample"
   ]
  },
  {
   "cell_type": "code",
   "execution_count": 16,
   "metadata": {
    "jupyter": {
     "outputs_hidden": false
    },
    "pycharm": {
     "name": "#%%\n"
    }
   },
   "outputs": [],
   "source": [
    "# TODO: compare loan country distribution to poverty levels from another dataset\n",
    "# (the more granular the better, original dataset has coordinates)\n"
   ]
  },
  {
   "cell_type": "code",
   "execution_count": 17,
   "metadata": {
    "jupyter": {
     "outputs_hidden": false
    },
    "pycharm": {
     "name": "#%%\n"
    }
   },
   "outputs": [],
   "source": [
    "# TODO: use Kiva's API to get the loan statuses of loans in sample (need to test first to see if viable)\n",
    "# or maybe see if the sample loans are contained in the large dataset\n",
    "\n"
   ]
  },
  {
   "cell_type": "code",
   "execution_count": 18,
   "metadata": {
    "jupyter": {
     "outputs_hidden": false
    },
    "pycharm": {
     "name": "#%%\n"
    }
   },
   "outputs": [],
   "source": [
    "# TODO: make ML models to try to predict whether loans will be a) funded b) repaid\n"
   ]
  }
 ],
 "metadata": {
  "kernelspec": {
   "display_name": "Python 3",
   "language": "python",
   "name": "python3"
  },
  "language_info": {
   "codemirror_mode": {
    "name": "ipython",
    "version": 3
   },
   "file_extension": ".py",
   "mimetype": "text/x-python",
   "name": "python",
   "nbconvert_exporter": "python",
   "pygments_lexer": "ipython3",
   "version": "3.7.5"
  },
  "pycharm": {
   "stem_cell": {
    "cell_type": "raw",
    "source": [],
    "metadata": {
     "collapsed": false
    }
   }
  }
 },
 "nbformat": 4,
 "nbformat_minor": 4
}