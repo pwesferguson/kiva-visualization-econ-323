{
 "cells": [
  {
   "cell_type": "code",
   "execution_count": 1,
   "metadata": {
    "pycharm": {
     "is_executing": false
    }
   },
   "outputs": [],
   "source": [
    "import pandas as pd\n",
    "import matplotlib.colors as mplc\n",
    "import matplotlib.patches as patches\n",
    "import matplotlib.pyplot as plt\n",
    "import matplotlib.ticker as ticker\n",
    "from scipy import stats\n",
    "import numpy as np\n",
    "import seaborn as sns"
   ]
  },
  {
   "cell_type": "code",
   "execution_count": 2,
   "metadata": {
    "pycharm": {
     "is_executing": false
    }
   },
   "outputs": [],
   "source": [
    "# %matplotlib inline\n",
    "# activate plot theme\n",
    "# import qeds\n",
    "# qeds.themes.mpl_style();"
   ]
  },
  {
   "cell_type": "markdown",
   "metadata": {
    "pycharm": {
     "name": "#%% md\n"
    }
   },
   "source": [
    "TODO: talk about kiva as an organization, this dataset,\n",
    "structure of notebook\n",
    "\n",
    "Kiva is a non-profit organization that hosts a platform, kiva.org, to crowdfund loans to individuals and groups\n",
    "in underdeveloped regions who otherwise may not have had access to capital. They provide a rich dataset of historical loans from 2006 to 2019.\n",
    "\n",
    "In this notebook, we will first explore the dataset to glean insights and deeper understanding about the platform.\n",
    "\n",
    "We will then consider the following questions from an individual lender's point of view:\n",
    "1. How the value of a lump sum of money placed into the platform changes over time\n",
    "2. The expected personal loss of making a single loan, and then withdrawing any repayment as soon as possible.\n",
    "\n",
    "Finally, we will attempt to use machine learning models to predict which loans will get funded, and which will get fully repaid."
   ]
  },
  {
   "cell_type": "code",
   "execution_count": 3,
   "metadata": {
    "pycharm": {
     "is_executing": false
    }
   },
   "outputs": [],
   "source": [
    "# Source: https://www.kiva.org/build/data-snapshots\n",
    "loans_raw = pd.read_csv(\"datasets/loans_big.csv\", parse_dates=[\"POSTED_TIME\",\"PLANNED_EXPIRATION_TIME\",\"DISBURSE_TIME\",\"RAISED_TIME\",])"
   ]
  },
  {
   "cell_type": "code",
   "execution_count": 4,
   "metadata": {
    "pycharm": {
     "is_executing": false
    }
   },
   "outputs": [
    {
     "data": {
      "text/html": [
       "<div>\n",
       "<style scoped>\n",
       "    .dataframe tbody tr th:only-of-type {\n",
       "        vertical-align: middle;\n",
       "    }\n",
       "\n",
       "    .dataframe tbody tr th {\n",
       "        vertical-align: top;\n",
       "    }\n",
       "\n",
       "    .dataframe thead th {\n",
       "        text-align: right;\n",
       "    }\n",
       "</style>\n",
       "<table border=\"1\" class=\"dataframe\">\n",
       "  <thead>\n",
       "    <tr style=\"text-align: right;\">\n",
       "      <th></th>\n",
       "      <th>LOAN_ID</th>\n",
       "      <th>LOAN_NAME</th>\n",
       "      <th>ORIGINAL_LANGUAGE</th>\n",
       "      <th>DESCRIPTION</th>\n",
       "      <th>DESCRIPTION_TRANSLATED</th>\n",
       "      <th>FUNDED_AMOUNT</th>\n",
       "      <th>LOAN_AMOUNT</th>\n",
       "      <th>STATUS</th>\n",
       "      <th>IMAGE_ID</th>\n",
       "      <th>VIDEO_ID</th>\n",
       "      <th>...</th>\n",
       "      <th>LENDER_TERM</th>\n",
       "      <th>NUM_LENDERS_TOTAL</th>\n",
       "      <th>NUM_JOURNAL_ENTRIES</th>\n",
       "      <th>NUM_BULK_ENTRIES</th>\n",
       "      <th>TAGS</th>\n",
       "      <th>BORROWER_NAMES</th>\n",
       "      <th>BORROWER_GENDERS</th>\n",
       "      <th>BORROWER_PICTURED</th>\n",
       "      <th>REPAYMENT_INTERVAL</th>\n",
       "      <th>DISTRIBUTION_MODEL</th>\n",
       "    </tr>\n",
       "  </thead>\n",
       "  <tbody>\n",
       "    <tr>\n",
       "      <th>77657</th>\n",
       "      <td>807094</td>\n",
       "      <td>GUSTAVO</td>\n",
       "      <td>Spanish</td>\n",
       "      <td>Gustavo es soltero y vive con sus padres en La...</td>\n",
       "      <td>Gustavo is single and lives with his parents i...</td>\n",
       "      <td>500.0</td>\n",
       "      <td>500.0</td>\n",
       "      <td>funded</td>\n",
       "      <td>1745738.0</td>\n",
       "      <td>3002.0</td>\n",
       "      <td>...</td>\n",
       "      <td>20.0</td>\n",
       "      <td>17</td>\n",
       "      <td>2</td>\n",
       "      <td>1</td>\n",
       "      <td>user_favorite, user_favorite, user_favorite</td>\n",
       "      <td>GUSTAVO</td>\n",
       "      <td>male</td>\n",
       "      <td>true</td>\n",
       "      <td>monthly</td>\n",
       "      <td>field_partner</td>\n",
       "    </tr>\n",
       "  </tbody>\n",
       "</table>\n",
       "<p>1 rows × 34 columns</p>\n",
       "</div>"
      ],
      "text/plain": [
       "       LOAN_ID LOAN_NAME ORIGINAL_LANGUAGE  \\\n",
       "77657   807094   GUSTAVO           Spanish   \n",
       "\n",
       "                                             DESCRIPTION  \\\n",
       "77657  Gustavo es soltero y vive con sus padres en La...   \n",
       "\n",
       "                                  DESCRIPTION_TRANSLATED  FUNDED_AMOUNT  \\\n",
       "77657  Gustavo is single and lives with his parents i...          500.0   \n",
       "\n",
       "       LOAN_AMOUNT  STATUS   IMAGE_ID  VIDEO_ID  ... LENDER_TERM  \\\n",
       "77657        500.0  funded  1745738.0    3002.0  ...        20.0   \n",
       "\n",
       "      NUM_LENDERS_TOTAL NUM_JOURNAL_ENTRIES NUM_BULK_ENTRIES  \\\n",
       "77657                17                   2                1   \n",
       "\n",
       "                                              TAGS BORROWER_NAMES  \\\n",
       "77657  user_favorite, user_favorite, user_favorite        GUSTAVO   \n",
       "\n",
       "      BORROWER_GENDERS  BORROWER_PICTURED REPAYMENT_INTERVAL  \\\n",
       "77657             male               true            monthly   \n",
       "\n",
       "       DISTRIBUTION_MODEL  \n",
       "77657       field_partner  \n",
       "\n",
       "[1 rows x 34 columns]"
      ]
     },
     "execution_count": 4,
     "metadata": {},
     "output_type": "execute_result"
    }
   ],
   "source": [
    "loans_raw.dropna().head(1)"
   ]
  },
  {
   "cell_type": "code",
   "execution_count": 5,
   "metadata": {
    "pycharm": {
     "is_executing": false
    }
   },
   "outputs": [
    {
     "name": "stdout",
     "output_type": "stream",
     "text": [
      "The dataset contains 1682790 loans in the date range 2006-04-16 07:10:50+00:00 to 2019-02-25 04:12:27+00:00.\n"
     ]
    }
   ],
   "source": [
    "min_date = loans_raw[\"POSTED_TIME\"].min()\n",
    "max_date = loans_raw[\"POSTED_TIME\"].max()\n",
    "print(f\"The dataset contains {len(loans_raw)} loans in the date range {min_date} to {max_date}.\")"
   ]
  },
  {
   "cell_type": "markdown",
   "metadata": {},
   "source": [
    "We will first explore the quality of the data and see if there will be any issues with missing data."
   ]
  },
  {
   "cell_type": "code",
   "execution_count": 6,
   "metadata": {
    "pycharm": {
     "is_executing": false
    },
    "scrolled": true
   },
   "outputs": [
    {
     "name": "stdout",
     "output_type": "stream",
     "text": [
      "LOAN_ID                                  0\n",
      "LOAN_NAME                            48555\n",
      "ORIGINAL_LANGUAGE                    44209\n",
      "DESCRIPTION                          44244\n",
      "DESCRIPTION_TRANSLATED              453635\n",
      "FUNDED_AMOUNT                            0\n",
      "LOAN_AMOUNT                              0\n",
      "STATUS                                   0\n",
      "IMAGE_ID                             44209\n",
      "VIDEO_ID                           1681943\n",
      "ACTIVITY_NAME                            0\n",
      "SECTOR_NAME                              0\n",
      "LOAN_USE                             44232\n",
      "COUNTRY_CODE                            29\n",
      "COUNTRY_NAME                             0\n",
      "TOWN_NAME                           163515\n",
      "CURRENCY_POLICY                          0\n",
      "CURRENCY_EXCHANGE_COVERAGE_RATE     337326\n",
      "CURRENCY                                 0\n",
      "PARTNER_ID                           18325\n",
      "POSTED_TIME                              0\n",
      "PLANNED_EXPIRATION_TIME             371834\n",
      "DISBURSE_TIME                         3189\n",
      "RAISED_TIME                          85150\n",
      "LENDER_TERM                             24\n",
      "NUM_LENDERS_TOTAL                        0\n",
      "NUM_JOURNAL_ENTRIES                      0\n",
      "NUM_BULK_ENTRIES                         0\n",
      "TAGS                                831171\n",
      "BORROWER_NAMES                       48555\n",
      "BORROWER_GENDERS                     44209\n",
      "BORROWER_PICTURED                    44209\n",
      "REPAYMENT_INTERVAL                       0\n",
      "DISTRIBUTION_MODEL                       0\n",
      "dtype: int64\n"
     ]
    }
   ],
   "source": [
    "print(loans_raw.isnull().sum())"
   ]
  },
  {
   "cell_type": "markdown",
   "metadata": {},
   "source": [
    "As you can see, although there are some missing cells, the core data relating to the loans themselves are complete. Although cells relating to currencies are listed, investigating a sample revealed that all loan amounts are in USD.\n",
    "\n",
    "We will proceed by investigating some basic questions about the loans.\n"
   ]
  },
  {
   "cell_type": "code",
   "execution_count": 7,
   "metadata": {
    "pycharm": {
     "name": "#%%\n"
    }
   },
   "outputs": [],
   "source": [
    "# TODO: PLOT LOAN AMOUNTS, SECTORS, COUNTRIES, TERMS, POSTED_TO_DISTRIBUTED, REPAYMENT INTERVALS, GENDERS\n"
   ]
  },
  {
   "cell_type": "markdown",
   "metadata": {
    "pycharm": {
     "name": "#%% md\n"
    }
   },
   "source": [
    "What are these loans going towards?"
   ]
  },
  {
   "cell_type": "code",
   "execution_count": 8,
   "metadata": {
    "pycharm": {
     "name": "#%%\n"
    }
   },
   "outputs": [
    {
     "data": {
      "text/plain": [
       "<matplotlib.axes._subplots.AxesSubplot at 0x230d7182848>"
      ]
     },
     "execution_count": 8,
     "metadata": {},
     "output_type": "execute_result"
    },
    {
     "data": {
      "image/png": "[encoded data removed]",
      "text/plain": [
       "<Figure size 432x288 with 1 Axes>"
      ]
     },
     "metadata": {
      "needs_background": "light"
     },
     "output_type": "display_data"
    }
   ],
   "source": [
    "sectors = loans_raw[\"SECTOR_NAME\"].value_counts()\n",
    "sectors.plot.barh()"
   ]
  },
  {
   "cell_type": "markdown",
   "metadata": {
    "pycharm": {
     "name": "#%% md\n"
    }
   },
   "source": [
    "What about if we get slightly more granular?"
   ]
  },
  {
   "cell_type": "code",
   "execution_count": 9,
   "metadata": {
    "pycharm": {
     "name": "#%%\n"
    }
   },
   "outputs": [
    {
     "data": {
      "text/plain": [
       "<matplotlib.axes._subplots.AxesSubplot at 0x230a33219c8>"
      ]
     },
     "execution_count": 9,
     "metadata": {},
     "output_type": "execute_result"
    },
    {
     "data": {
      "image/png": "[encoded data removed]",
      "text/plain": [
       "<Figure size 432x288 with 1 Axes>"
      ]
     },
     "metadata": {
      "needs_background": "light"
     },
     "output_type": "display_data"
    }
   ],
   "source": [
    "activities = loans_raw[\"ACTIVITY_NAME\"].value_counts().nlargest(15)\n",
    "activities.plot.barh()"
   ]
  },
  {
   "cell_type": "markdown",
   "metadata": {},
   "source": [
    "As you can see, the most popular reasons for loans are to help small businesses, such as farming and local retail."
   ]
  },
  {
   "cell_type": "markdown",
   "metadata": {
    "pycharm": {
     "name": "#%% md\n"
    }
   },
   "source": [
    "What does the distribution of loan amounts look like?"
   ]
  },
  {
   "cell_type": "code",
   "execution_count": 10,
   "metadata": {
    "pycharm": {
     "name": "#%%\n"
    }
   },
   "outputs": [
    {
     "data": {
      "text/plain": [
       "Text(0.5, 0, 'Loan Amounts in USD')"
      ]
     },
     "execution_count": 10,
     "metadata": {},
     "output_type": "execute_result"
    },
    {
     "data": {
      "image/png": "[encoded data removed]",
      "text/plain": [
       "<Figure size 432x288 with 1 Axes>"
      ]
     },
     "metadata": {
      "needs_background": "light"
     },
     "output_type": "display_data"
    }
   ],
   "source": [
    "amounts = loans_raw['LOAN_AMOUNT']\n",
    "\n",
    "# Remove outliers to be able to view amounts at a reasonable scale.\n",
    "# These outliers are quite rare, but some have extremely large amounts, skewing the image.\n",
    "z = np.abs(stats.zscore(amounts))\n",
    "filtered_amounts = amounts[(z < 2)]\n",
    "\n",
    "ax = sns.violinplot(x=filtered_amounts)\n",
    "ax.set_xlabel(\"Loan Amounts in USD\")"
   ]
  },
  {
   "cell_type": "markdown",
   "metadata": {
    "pycharm": {
     "name": "#%% md\n"
    }
   },
   "source": [
    "We can see that the most common loan amount is 250 USD, though 500 and 1000 are both more popular than surrounding amounts."
   ]
  },
  {
   "cell_type": "markdown",
   "metadata": {
    "pycharm": {
     "name": "#%% md\n"
    }
   },
   "source": [
    "How many people tend to contribute to each loan?"
   ]
  },
  {
   "cell_type": "code",
   "execution_count": 11,
   "metadata": {
    "pycharm": {
     "name": "#%%\n"
    }
   },
   "outputs": [
    {
     "name": "stdout",
     "output_type": "stream",
     "text": [
      "8     78933\n",
      "1     72962\n",
      "9     72353\n",
      "7     72134\n",
      "5     69761\n",
      "      ...  \n",
      "73     1814\n",
      "75     1741\n",
      "76     1687\n",
      "77     1600\n",
      "78     1520\n",
      "Name: NUM_LENDERS_TOTAL, Length: 79, dtype: int64\n"
     ]
    },
    {
     "data": {
      "text/plain": [
       "<matplotlib.axes._subplots.AxesSubplot at 0x2302156fe08>"
      ]
     },
     "execution_count": 11,
     "metadata": {},
     "output_type": "execute_result"
    },
    {
     "data": {
      "image/png": "[encoded data removed]",
      "text/plain": [
       "<Figure size 432x288 with 1 Axes>"
      ]
     },
     "metadata": {
      "needs_background": "light"
     },
     "output_type": "display_data"
    }
   ],
   "source": [
    "lenders = loans_raw[\"NUM_LENDERS_TOTAL\"]\n",
    "z = np.abs(stats.zscore(lenders))\n",
    "filtered_lenders = lenders[(z < 2)]\n",
    "\n",
    "print(filtered_lenders.value_counts())\n",
    "\n",
    "sns.distplot(filtered_lenders, hist=True, kde=False, \n",
    "             bins=len(filtered_lenders.value_counts()), color = 'blue',\n",
    "             hist_kws={'edgecolor':'black'})"
   ]
  },
  {
   "cell_type": "markdown",
   "metadata": {
    "pycharm": {
     "name": "#%% md\n"
    }
   },
   "source": [
    "We see that the distribution is centered around 8 lenders, with a long right tail. However, we can also see that a significant number of loans were funded by only a single person."
   ]
  },
  {
   "cell_type": "markdown",
   "metadata": {
    "pycharm": {
     "name": "#%% md\n"
    }
   },
   "source": [
    "The loans are not guaranteed to get fully funded. How many do not?"
   ]
  },
  {
   "cell_type": "code",
   "execution_count": 12,
   "metadata": {},
   "outputs": [
    {
     "name": "stdout",
     "output_type": "stream",
     "text": [
      "5.1% of loans do not get fully funded.\n",
      "Of those, the mean amount funded is 56.4% of the ask.\n"
     ]
    }
   ],
   "source": [
    "loan_diffs = amounts - loans_raw[\"FUNDED_AMOUNT\"]\n",
    "loan_diffs = loan_diffs[loan_diffs != 0]\n",
    "percent_unfunded = ((loan_diffs.count() / amounts.count()) * 100).round(1)\n",
    "print(f\"{percent_unfunded}% of loans do not get fully funded.\")\n",
    "\n",
    "unfunded_asking_amounts = amounts[loan_diffs.index]\n",
    "unfunded_ratios = loan_diffs / unfunded_asking_amounts\n",
    "how_much_funded = (unfunded_ratios.mean() * 100).round(1)\n",
    "print(f\"Of those, the mean amount funded is {how_much_funded}% of the ask.\")"
   ]
  },
  {
   "cell_type": "markdown",
   "metadata": {
    "pycharm": {
     "name": "#%% md\n"
    }
   },
   "source": [
    "Once the loans are distributed, there is no guarantee that they will be repaid. How many do not?\n",
    "\n",
    "Unfortunately, there was no information to answer this question in the original dataset. We instead turn to a previously supplied dataset of 5000 randomly sampled loans with their repayment details, taken from https://stat.duke.edu/resources/datasets/kiva-loans"
   ]
  },
  {
   "cell_type": "code",
   "execution_count": 13,
   "metadata": {},
   "outputs": [],
   "source": [
    "## TODO: if time, investigate using graphql with original dataset \n",
    "repayments = pd.read_excel(\"datasets/loan_repayment_samples.xlsx\")\n",
    "# basket_amount was all n/a, video.youtube_id was not used\n",
    "repayments = repayments.drop([\"basket_amount\", \"video.youtube_id\"], axis=1)"
   ]
  },
  {
   "cell_type": "code",
   "execution_count": 14,
   "metadata": {
    "scrolled": true
   },
   "outputs": [
    {
     "name": "stdout",
     "output_type": "stream",
     "text": [
      "       terms.loan_amount  journal_totals.entries   delinquent        amount  \\\n",
      "count       42103.000000            42073.000000  1920.000000  42078.000000   \n",
      "mean          680.563339                1.411452     1.563151     65.265536   \n",
      "std           567.361911                1.523893     4.904250     87.019130   \n",
      "min            25.000000                1.000000     1.000000   -504.000000   \n",
      "25%           325.000000                1.000000     1.000000     19.380000   \n",
      "50%           550.000000                1.000000     1.000000     48.000000   \n",
      "75%           925.000000                2.000000     1.000000     83.000000   \n",
      "max         10000.000000               83.370000    44.250000   1942.600000   \n",
      "\n",
      "         payment_id  local_amount  rounded_local_amount           lat  \\\n",
      "count  4.207800e+04  4.207800e+04          4.207800e+04  42078.000000   \n",
      "mean   4.499265e+07  5.516449e+04          5.394330e+04      9.440538   \n",
      "std    4.091286e+07  2.552949e+05          2.166499e+05     16.679844   \n",
      "min    1.890000e+02 -5.040000e+02         -5.040000e+02    -27.000000   \n",
      "25%    3.241018e+05  7.100000e+01          7.200000e+01     -0.283333   \n",
      "50%    3.602980e+07  2.777800e+02          2.996900e+02     12.000000   \n",
      "75%    8.704656e+07  9.000000e+03          9.382040e+03     14.600000   \n",
      "max    1.107969e+08  8.480000e+06          7.160370e+06     50.000000   \n",
      "\n",
      "                lon  \n",
      "count  42078.000000  \n",
      "mean      17.550641  \n",
      "std       85.162101  \n",
      "min     -172.333333  \n",
      "25%      -68.150000  \n",
      "50%       33.000000  \n",
      "75%      105.000000  \n",
      "max      126.063611  \n"
     ]
    }
   ],
   "source": [
    "print(repayments.describe())"
   ]
  },
  {
   "cell_type": "code",
   "execution_count": 15,
   "metadata": {
    "pycharm": {
     "name": "#%%\n"
    }
   },
   "outputs": [],
   "source": [
    "# This dataset has a row for each individual payment; aggregate these into a single row per loan\n",
    "\n",
    "grouped_repayments = repayments.groupby(\"id\", as_index=False).agg(lambda x: x.tolist())"
   ]
  },
  {
   "cell_type": "code",
   "execution_count": 16,
   "metadata": {},
   "outputs": [
    {
     "data": {
      "text/plain": [
       "<matplotlib.axes._subplots.AxesSubplot at 0x23005c46d48>"
      ]
     },
     "execution_count": 16,
     "metadata": {},
     "output_type": "execute_result"
    },
    {
     "data": {
      "image/png": "[encoded data removed]",
      "text/plain": [
       "<Figure size 432x288 with 1 Axes>"
      ]
     },
     "metadata": {
      "needs_background": "light"
     },
     "output_type": "display_data"
    }
   ],
   "source": [
    "# Get the payment status of the loan\n",
    "grouped_repayments[\"status\"] = grouped_repayments[\"status\"].agg(lambda x: \"defaulted\" if \"defaulted\" in x else \"paid\")\n",
    "\n",
    "sns.countplot(x=\"status\", data=grouped_repayments)"
   ]
  },
  {
   "cell_type": "code",
   "execution_count": 17,
   "metadata": {},
   "outputs": [
    {
     "name": "stdout",
     "output_type": "stream",
     "text": [
      "2.0 % of loans in this sample have defaulted.\n"
     ]
    }
   ],
   "source": [
    "status_counts = grouped_repayments[\"status\"].value_counts()\n",
    "default_ratio = ((status_counts[\"defaulted\"] / len(grouped_repayments)) * 100).round(1)\n",
    "print(f\"{default_ratio} % of loans in this sample have defaulted.\")"
   ]
  },
  {
   "cell_type": "markdown",
   "metadata": {
    "pycharm": {
     "name": "#%% md\n"
    }
   },
   "source": [
    "What are the gender ratios of those receiving loans? Those giving loans?"
   ]
  },
  {
   "cell_type": "code",
   "execution_count": 18,
   "metadata": {},
   "outputs": [
    {
     "data": {
      "text/plain": [
       "([<matplotlib.patches.Wedge at 0x2310cb32a08>,\n",
       "  <matplotlib.patches.Wedge at 0x2310cb3b048>],\n",
       " [Text(0.8900657361465263, 0.6463613427007702, 'males'),\n",
       "  Text(-0.8900657966632387, -0.6463612593667989, 'females')])"
      ]
     },
     "execution_count": 18,
     "metadata": {},
     "output_type": "execute_result"
    },
    {
     "data": {
      "image/png": "[encoded data removed]",
      "text/plain": [
       "<Figure size 432x288 with 1 Axes>"
      ]
     },
     "metadata": {},
     "output_type": "display_data"
    }
   ],
   "source": [
    "genders = loans_raw[\"BORROWER_GENDERS\"].dropna()\n",
    "females = 0\n",
    "males = 0\n",
    "\n",
    "# The gender entries include all recipients as a comma separated string, so a simple value_counts will not work.\n",
    "for entry in genders:\n",
    "    recipients = entry.split(\", \")\n",
    "    for gender in recipients:\n",
    "        if gender == \"female\":\n",
    "            females += 1\n",
    "        else:\n",
    "            males += 1\n",
    "            \n",
    "fig, ax = plt.subplots()\n",
    "ax.pie(x=[males, females], labels=[\"males\", \"females\"])"
   ]
  },
  {
   "cell_type": "code",
   "execution_count": 19,
   "metadata": {},
   "outputs": [],
   "source": [
    "## TODO import lenders dataset to answer"
   ]
  },
  {
   "cell_type": "code",
   "execution_count": null,
   "metadata": {},
   "outputs": [],
   "source": []
  },
  {
   "cell_type": "code",
   "execution_count": null,
   "metadata": {
    "pycharm": {
     "is_executing": false
    }
   },
   "outputs": [],
   "source": []
  },
  {
   "cell_type": "code",
   "execution_count": 20,
   "metadata": {
    "pycharm": {
     "name": "#%%\n"
    }
   },
   "outputs": [],
   "source": [
    "## TODO remove if not going to use\n",
    "# import requests\n",
    "# base_url = 'https://api.kivaws.org/graphql?query='\n",
    "\n",
    "# graphql_query = \"{lend {loan (id: 1568001){id name}}}\"\n",
    "\n",
    "# r = requests.post(base_url+ graphql_query )\n",
    "# r.json()"
   ]
  },
  {
   "cell_type": "markdown",
   "metadata": {},
   "source": [
    "How many available loans are there at once? How has this changed over time as the organization has grown?"
   ]
  },
  {
   "cell_type": "code",
   "execution_count": 21,
   "metadata": {
    "pycharm": {
     "name": "#%%\n"
    }
   },
   "outputs": [],
   "source": [
    "# TODO: plot frequency of loans over time in sample\n",
    "timeseries = loans_raw.set_index(\"POSTED_TIME\").sort_index()\n",
    "timeseries = timeseries.set_index(timeseries.index.to_pydatetime())\n",
    "\n",
    "# fig, ax = plt.subplots(figsize=(12, 4))\n",
    "# ax.plot()\n",
    "# plt.plot(timeseries.index.to_pydatetime())"
   ]
  },
  {
   "cell_type": "code",
   "execution_count": 22,
   "metadata": {
    "pycharm": {
     "name": "#%%\n"
    }
   },
   "outputs": [
    {
     "data": {
      "text/plain": [
       "<matplotlib.axes._subplots.AxesSubplot at 0x23087c6c648>"
      ]
     },
     "execution_count": 22,
     "metadata": {},
     "output_type": "execute_result"
    },
    {
     "data": {
      "image/png": "[encoded data removed]",
      "text/plain": [
       "<Figure size 432x288 with 1 Axes>"
      ]
     },
     "metadata": {
      "needs_background": "light"
     },
     "output_type": "display_data"
    }
   ],
   "source": [
    "timeseries[\"LOAN_ID\"].rolling(\"30d\").count().plot() # Loans are available for 30 days once posted"
   ]
  },
  {
   "cell_type": "code",
   "execution_count": 23,
   "metadata": {
    "pycharm": {
     "name": "#%%\n"
    }
   },
   "outputs": [],
   "source": [
    "# TODO: consolidate uses of loans by string matching and plot"
   ]
  },
  {
   "cell_type": "code",
   "execution_count": 24,
   "metadata": {
    "pycharm": {
     "name": "#%%\n"
    }
   },
   "outputs": [],
   "source": [
    "# TODO: estimate pdv of loans to infer how much people are \"giving away\" in these loans"
   ]
  },
  {
   "cell_type": "code",
   "execution_count": 25,
   "metadata": {
    "pycharm": {
     "name": "#%%\n"
    }
   },
   "outputs": [],
   "source": [
    "# TODO: create heatmap of loan countries/regions in sample\n",
    "import plotly.express as px"
   ]
  },
  {
   "cell_type": "code",
   "execution_count": 26,
   "metadata": {
    "pycharm": {
     "is_executing": false
    }
   },
   "outputs": [],
   "source": [
    "# TODO: compare loan country distribution to poverty levels from another dataset\n",
    "# (the more granular the better, original dataset has coordinates)\n"
   ]
  },
  {
   "cell_type": "markdown",
   "metadata": {},
   "source": [
    "How many available loans are there at once? How has this changed over time as the organization has grown?"
   ]
  },
  {
   "cell_type": "code",
   "execution_count": 27,
   "metadata": {},
   "outputs": [],
   "source": [
    "# TODO: plot frequency of loans over time in sample\n",
    "timeseries = loans_raw.set_index(\"POSTED_TIME\").sort_index()\n",
    "timeseries = timeseries.set_index(timeseries.index.to_pydatetime())\n",
    "\n",
    "# fig, ax = plt.subplots(figsize=(12, 4))\n",
    "# ax.plot()\n",
    "# plt.plot(timeseries.index.to_pydatetime())"
   ]
  },
  {
   "cell_type": "code",
   "execution_count": 28,
   "metadata": {},
   "outputs": [
    {
     "data": {
      "text/plain": [
       "<matplotlib.axes._subplots.AxesSubplot at 0x2310e3beb08>"
      ]
     },
     "execution_count": 28,
     "metadata": {},
     "output_type": "execute_result"
    },
    {
     "data": {
      "image/png": "[encoded data removed]",
      "text/plain": [
       "<Figure size 432x288 with 1 Axes>"
      ]
     },
     "metadata": {
      "needs_background": "light"
     },
     "output_type": "display_data"
    }
   ],
   "source": [
    "timeseries[\"LOAN_ID\"].rolling(\"30d\").count().plot() # Loans are available for 30 days once posted"
   ]
  },
  {
   "cell_type": "code",
   "execution_count": 29,
   "metadata": {},
   "outputs": [],
   "source": [
    "# TODO: consolidate uses of loans by string matching and plot"
   ]
  },
  {
   "cell_type": "code",
   "execution_count": 30,
   "metadata": {
    "jupyter": {
     "outputs_hidden": false
    },
    "pycharm": {
     "name": "#%%\n"
    }
   },
   "outputs": [],
   "source": [
    "# TODO: estimate pdv of loans to infer how much people are \"giving away\" in these loans"
   ]
  },
  {
   "cell_type": "code",
   "execution_count": 31,
   "metadata": {
    "jupyter": {
     "outputs_hidden": false
    },
    "pycharm": {
     "name": "#%%\n"
    }
   },
   "outputs": [],
   "source": [
    "# TODO: create heatmap of loan countries/regions in sample\n",
    "import plotly.express as px"
   ]
  },
  {
   "cell_type": "code",
   "execution_count": 37,
   "metadata": {},
   "outputs": [
    {
     "data": {
      "text/plain": [
       "PH    337087\n",
       "KE    177553\n",
       "PE     93921\n",
       "KH     89052\n",
       "SV     73400\n",
       "       ...  \n",
       "BT         2\n",
       "UY         1\n",
       "BD         1\n",
       "BW         1\n",
       "MR         1\n",
       "Name: COUNTRY_CODE, Length: 98, dtype: int64"
      ]
     },
     "execution_count": 37,
     "metadata": {},
     "output_type": "execute_result"
    }
   ],
   "source": [
    "countries = loans_raw[\"COUNTRY_CODE\"].dropna()\n",
    "loans_per_country = countries.value_counts()\n",
    "\n",
    "fig = px.choropleth(\n",
    "    locations=countries.unique(),\n",
    "#     locationmode=\"USA-states\",\n",
    "    color=loans_per_country,\n",
    "#     scope=\"usa\",\n",
    "    title=\"TODO\"\n",
    ")\n",
    "fig.show()"
   ]
  },
  {
   "cell_type": "code",
   "execution_count": 32,
   "metadata": {
    "jupyter": {
     "outputs_hidden": false
    },
    "pycharm": {
     "name": "#%%\n"
    }
   },
   "outputs": [],
   "source": [
    "# TODO: compare loan country distribution to poverty levels from another dataset\n",
    "# (the more granular the better, original dataset has coordinates)\n"
   ]
  },
  {
   "cell_type": "code",
   "execution_count": 33,
   "metadata": {
    "jupyter": {
     "outputs_hidden": false
    },
    "pycharm": {
     "name": "#%%\n"
    }
   },
   "outputs": [],
   "source": [
    "# TODO: use Kiva's API to get the loan statuses of loans in sample (need to test first to see if viable)\n",
    "# or maybe see if the sample loans are contained in the large dataset\n",
    "\n"
   ]
  },
  {
   "cell_type": "code",
   "execution_count": 34,
   "metadata": {
    "jupyter": {
     "outputs_hidden": false
    },
    "pycharm": {
     "name": "#%%\n"
    }
   },
   "outputs": [],
   "source": [
    "# TODO: make ML models to try to predict whether loans will be a) funded b) repaid\n"
   ]
  }
 ],
 "metadata": {
  "kernelspec": {
   "display_name": "Python 3",
   "language": "python",
   "name": "python3"
  },
  "language_info": {
   "codemirror_mode": {
    "name": "ipython",
    "version": 3
   },
   "file_extension": ".py",
   "mimetype": "text/x-python",
   "name": "python",
   "nbconvert_exporter": "python",
   "pygments_lexer": "ipython3",
   "version": "3.7.7"
  }
 },
 "nbformat": 4,
 "nbformat_minor": 4
}
